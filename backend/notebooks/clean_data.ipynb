{
 "cells": [
  {
   "cell_type": "code",
   "execution_count": 35,
   "id": "7d67a7dc-e33f-4f30-881c-acf19730fd4f",
   "metadata": {},
   "outputs": [],
   "source": [
    "import pandas as pd"
   ]
  },
  {
   "cell_type": "code",
   "execution_count": 36,
   "id": "372ae7b9-2457-4075-9449-2b8f99201646",
   "metadata": {},
   "outputs": [
    {
     "data": {
      "text/html": [
       "<div>\n",
       "<style scoped>\n",
       "    .dataframe tbody tr th:only-of-type {\n",
       "        vertical-align: middle;\n",
       "    }\n",
       "\n",
       "    .dataframe tbody tr th {\n",
       "        vertical-align: top;\n",
       "    }\n",
       "\n",
       "    .dataframe thead th {\n",
       "        text-align: right;\n",
       "    }\n",
       "</style>\n",
       "<table border=\"1\" class=\"dataframe\">\n",
       "  <thead>\n",
       "    <tr style=\"text-align: right;\">\n",
       "      <th></th>\n",
       "      <th>name</th>\n",
       "      <th>type</th>\n",
       "      <th>id</th>\n",
       "      <th>messages</th>\n",
       "    </tr>\n",
       "  </thead>\n",
       "  <tbody>\n",
       "    <tr>\n",
       "      <th>0</th>\n",
       "      <td>Sheger Press️️</td>\n",
       "      <td>public_channel</td>\n",
       "      <td>1770199174</td>\n",
       "      <td>{'id': 1, 'type': 'service', 'date': '2021-12-...</td>\n",
       "    </tr>\n",
       "    <tr>\n",
       "      <th>1</th>\n",
       "      <td>Sheger Press️️</td>\n",
       "      <td>public_channel</td>\n",
       "      <td>1770199174</td>\n",
       "      <td>{'id': 3, 'type': 'message', 'date': '2021-12-...</td>\n",
       "    </tr>\n",
       "    <tr>\n",
       "      <th>2</th>\n",
       "      <td>Sheger Press️️</td>\n",
       "      <td>public_channel</td>\n",
       "      <td>1770199174</td>\n",
       "      <td>{'id': 14, 'type': 'message', 'date': '2022-05...</td>\n",
       "    </tr>\n",
       "    <tr>\n",
       "      <th>3</th>\n",
       "      <td>Sheger Press️️</td>\n",
       "      <td>public_channel</td>\n",
       "      <td>1770199174</td>\n",
       "      <td>{'id': 15, 'type': 'message', 'date': '2022-05...</td>\n",
       "    </tr>\n",
       "    <tr>\n",
       "      <th>4</th>\n",
       "      <td>Sheger Press️️</td>\n",
       "      <td>public_channel</td>\n",
       "      <td>1770199174</td>\n",
       "      <td>{'id': 16, 'type': 'message', 'date': '2022-05...</td>\n",
       "    </tr>\n",
       "  </tbody>\n",
       "</table>\n",
       "</div>"
      ],
      "text/plain": [
       "             name            type          id  \\\n",
       "0  Sheger Press️️  public_channel  1770199174   \n",
       "1  Sheger Press️️  public_channel  1770199174   \n",
       "2  Sheger Press️️  public_channel  1770199174   \n",
       "3  Sheger Press️️  public_channel  1770199174   \n",
       "4  Sheger Press️️  public_channel  1770199174   \n",
       "\n",
       "                                            messages  \n",
       "0  {'id': 1, 'type': 'service', 'date': '2021-12-...  \n",
       "1  {'id': 3, 'type': 'message', 'date': '2021-12-...  \n",
       "2  {'id': 14, 'type': 'message', 'date': '2022-05...  \n",
       "3  {'id': 15, 'type': 'message', 'date': '2022-05...  \n",
       "4  {'id': 16, 'type': 'message', 'date': '2022-05...  "
      ]
     },
     "execution_count": 36,
     "metadata": {},
     "output_type": "execute_result"
    }
   ],
   "source": [
    "# Load json file\n",
    "json_file_path = '../raw/Sheger Press️️.json'\n",
    "\n",
    "# Read json file\n",
    "df = pd.read_json(json_file_path)\n",
    "df.head()"
   ]
  },
  {
   "cell_type": "code",
   "execution_count": 37,
   "id": "5a1fad93-ba40-460e-83dc-696e81df9855",
   "metadata": {},
   "outputs": [
    {
     "data": {
      "text/plain": [
       "(3964, 4)"
      ]
     },
     "execution_count": 37,
     "metadata": {},
     "output_type": "execute_result"
    }
   ],
   "source": [
    "df.shape"
   ]
  },
  {
   "cell_type": "code",
   "execution_count": 38,
   "id": "15b16662-0c9a-492c-9f4c-0a3cffad7461",
   "metadata": {},
   "outputs": [
    {
     "data": {
      "text/html": [
       "<div>\n",
       "<style scoped>\n",
       "    .dataframe tbody tr th:only-of-type {\n",
       "        vertical-align: middle;\n",
       "    }\n",
       "\n",
       "    .dataframe tbody tr th {\n",
       "        vertical-align: top;\n",
       "    }\n",
       "\n",
       "    .dataframe thead th {\n",
       "        text-align: right;\n",
       "    }\n",
       "</style>\n",
       "<table border=\"1\" class=\"dataframe\">\n",
       "  <thead>\n",
       "    <tr style=\"text-align: right;\">\n",
       "      <th></th>\n",
       "      <th>id</th>\n",
       "      <th>channel_name</th>\n",
       "      <th>type</th>\n",
       "      <th>message_id</th>\n",
       "      <th>message_type</th>\n",
       "      <th>text</th>\n",
       "      <th>label</th>\n",
       "      <th>created_at</th>\n",
       "      <th>updated_at</th>\n",
       "    </tr>\n",
       "  </thead>\n",
       "  <tbody>\n",
       "  </tbody>\n",
       "</table>\n",
       "</div>"
      ],
      "text/plain": [
       "Empty DataFrame\n",
       "Columns: [id, channel_name, type, message_id, message_type, text, label, created_at, updated_at]\n",
       "Index: []"
      ]
     },
     "execution_count": 38,
     "metadata": {},
     "output_type": "execute_result"
    }
   ],
   "source": [
    "# Create new data frame\n",
    "columns = [\"id\", \"channel_name\", \"type\", \"message_id\", \"message_type\",\"text\", \"label\", \"created_at\", \"updated_at\", ]\n",
    "new_df = pd.DataFrame(columns=columns)\n",
    "new_df"
   ]
  },
  {
   "cell_type": "code",
   "execution_count": 67,
   "id": "b0bb90fe-f65e-4f35-9eea-9d3a503679fa",
   "metadata": {},
   "outputs": [],
   "source": [
    "# Extract common values for all message\n",
    "telegeram_channel_id  = df[\"id\"][0]\n",
    "telegram_channel_name = df[\"name\"][0]\n",
    "telegeram_channel_type = df[\"type\"][0]"
   ]
  },
  {
   "cell_type": "code",
   "execution_count": 68,
   "id": "54caaecc-3e1a-4c98-90a1-b9e633dc72b1",
   "metadata": {},
   "outputs": [
    {
     "data": {
      "text/html": [
       "<div>\n",
       "<style scoped>\n",
       "    .dataframe tbody tr th:only-of-type {\n",
       "        vertical-align: middle;\n",
       "    }\n",
       "\n",
       "    .dataframe tbody tr th {\n",
       "        vertical-align: top;\n",
       "    }\n",
       "\n",
       "    .dataframe thead th {\n",
       "        text-align: right;\n",
       "    }\n",
       "</style>\n",
       "<table border=\"1\" class=\"dataframe\">\n",
       "  <thead>\n",
       "    <tr style=\"text-align: right;\">\n",
       "      <th></th>\n",
       "      <th>telegeram_channel_id</th>\n",
       "      <th>telegram_channel_name</th>\n",
       "      <th>telegeram_channel_type</th>\n",
       "      <th>message_id</th>\n",
       "      <th>message_type</th>\n",
       "      <th>text</th>\n",
       "      <th>created_at</th>\n",
       "      <th>update_at</th>\n",
       "    </tr>\n",
       "  </thead>\n",
       "  <tbody>\n",
       "    <tr>\n",
       "      <th>1</th>\n",
       "      <td>1770199174</td>\n",
       "      <td>Sheger Press️️</td>\n",
       "      <td>public_channel</td>\n",
       "      <td>3</td>\n",
       "      <td>message</td>\n",
       "      <td>አንድ ላይ ተጋግዘን ትልቅ መወያያ መድረክ እንፍጠር ስለምታደርጉልኝ ድጋፍ...</td>\n",
       "      <td>2021-12-30T22:02:03</td>\n",
       "      <td>2023-05-01T18:34:46</td>\n",
       "    </tr>\n",
       "    <tr>\n",
       "      <th>2</th>\n",
       "      <td>1770199174</td>\n",
       "      <td>Sheger Press️️</td>\n",
       "      <td>public_channel</td>\n",
       "      <td>14</td>\n",
       "      <td>message</td>\n",
       "      <td>መረጃ❗️❗️❗️\\n\\nየህወሃት ጦር ከመቀሌ ወደ አፋር አብዓላ የሚወስደውን...</td>\n",
       "      <td>2022-05-03T14:31:44</td>\n",
       "      <td>2022-05-03T14:31:53</td>\n",
       "    </tr>\n",
       "    <tr>\n",
       "      <th>3</th>\n",
       "      <td>1770199174</td>\n",
       "      <td>Sheger Press️️</td>\n",
       "      <td>public_channel</td>\n",
       "      <td>15</td>\n",
       "      <td>message</td>\n",
       "      <td>አዲስ መረጃ የጠ/ሩ የምሳ ግብዣ እንዴት አለፈ⁉️\\n\\nብፁዑ ወቅዱስ አቡ...</td>\n",
       "      <td>2022-05-03T15:25:59</td>\n",
       "      <td>2022-05-03T15:29:15</td>\n",
       "    </tr>\n",
       "    <tr>\n",
       "      <th>4</th>\n",
       "      <td>1770199174</td>\n",
       "      <td>Sheger Press️️</td>\n",
       "      <td>public_channel</td>\n",
       "      <td>16</td>\n",
       "      <td>message</td>\n",
       "      <td>ልዩ መረጃ‼️\\n\\n# የኦሮሚያ ልዩ ኃይል እና ሸኔ በምዕራብ ሸዋ በአማሮ...</td>\n",
       "      <td>2022-05-03T15:44:43</td>\n",
       "      <td>None</td>\n",
       "    </tr>\n",
       "    <tr>\n",
       "      <th>5</th>\n",
       "      <td>1770199174</td>\n",
       "      <td>Sheger Press️️</td>\n",
       "      <td>public_channel</td>\n",
       "      <td>17</td>\n",
       "      <td>message</td>\n",
       "      <td>NEWSALERT‼️\\n\\nከቀናት በፊት ደሴ ላይ ቤተከርስቲያን አፍርሰን መ...</td>\n",
       "      <td>2022-05-03T17:07:43</td>\n",
       "      <td>2022-05-03T17:09:57</td>\n",
       "    </tr>\n",
       "  </tbody>\n",
       "</table>\n",
       "</div>"
      ],
      "text/plain": [
       "   telegeram_channel_id telegram_channel_name telegeram_channel_type  \\\n",
       "1            1770199174        Sheger Press️️         public_channel   \n",
       "2            1770199174        Sheger Press️️         public_channel   \n",
       "3            1770199174        Sheger Press️️         public_channel   \n",
       "4            1770199174        Sheger Press️️         public_channel   \n",
       "5            1770199174        Sheger Press️️         public_channel   \n",
       "\n",
       "   message_id message_type                                               text  \\\n",
       "1           3      message  አንድ ላይ ተጋግዘን ትልቅ መወያያ መድረክ እንፍጠር ስለምታደርጉልኝ ድጋፍ...   \n",
       "2          14      message  መረጃ❗️❗️❗️\\n\\nየህወሃት ጦር ከመቀሌ ወደ አፋር አብዓላ የሚወስደውን...   \n",
       "3          15      message  አዲስ መረጃ የጠ/ሩ የምሳ ግብዣ እንዴት አለፈ⁉️\\n\\nብፁዑ ወቅዱስ አቡ...   \n",
       "4          16      message  ልዩ መረጃ‼️\\n\\n# የኦሮሚያ ልዩ ኃይል እና ሸኔ በምዕራብ ሸዋ በአማሮ...   \n",
       "5          17      message  NEWSALERT‼️\\n\\nከቀናት በፊት ደሴ ላይ ቤተከርስቲያን አፍርሰን መ...   \n",
       "\n",
       "            created_at            update_at  \n",
       "1  2021-12-30T22:02:03  2023-05-01T18:34:46  \n",
       "2  2022-05-03T14:31:44  2022-05-03T14:31:53  \n",
       "3  2022-05-03T15:25:59  2022-05-03T15:29:15  \n",
       "4  2022-05-03T15:44:43                 None  \n",
       "5  2022-05-03T17:07:43  2022-05-03T17:09:57  "
      ]
     },
     "execution_count": 68,
     "metadata": {},
     "output_type": "execute_result"
    }
   ],
   "source": [
    "# Extract the Message for each post\n",
    "message_df = df[\"messages\"]\n",
    "data = [{\n",
    "       'telegeram_channel_id': telegeram_channel_id,\n",
    "       'telegram_channel_name': telegram_channel_name,\n",
    "       'telegeram_channel_type': telegeram_channel_type,\n",
    "       'message_id': message.get('id', None),\n",
    "        'message_type': message.get('type', None),\n",
    "        'text': message['text_entities'][0]['text'] if message.get('text_entities') and message['text_entities'] else None,\n",
    "        'created_at': message.get('date', None),\n",
    "        'update_at': message.get('edited', None),\n",
    "        }for message in message_df]\n",
    "message_df = pd.DataFrame(data)\n",
    "message_df = message_df.sort_values(by='message_id')\n",
    "message_df.head()"
   ]
  },
  {
   "cell_type": "code",
   "execution_count": 66,
   "id": "794bf1da-120d-4f51-bdb4-be1ff317e8f7",
   "metadata": {},
   "outputs": [],
   "source": []
  },
  {
   "cell_type": "code",
   "execution_count": null,
   "id": "f7ea763f-12c5-4f2c-a2a1-58603f70bcc6",
   "metadata": {},
   "outputs": [],
   "source": []
  }
 ],
 "metadata": {
  "kernelspec": {
   "display_name": "Python 3 (ipykernel)",
   "language": "python",
   "name": "python3"
  },
  "language_info": {
   "codemirror_mode": {
    "name": "ipython",
    "version": 3
   },
   "file_extension": ".py",
   "mimetype": "text/x-python",
   "name": "python",
   "nbconvert_exporter": "python",
   "pygments_lexer": "ipython3",
   "version": "3.11.7"
  }
 },
 "nbformat": 4,
 "nbformat_minor": 5
}
